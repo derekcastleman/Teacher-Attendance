{
 "cells": [
  {
   "cell_type": "markdown",
   "id": "563c018b",
   "metadata": {},
   "source": [
    "# Teacher Attendance Calculations"
   ]
  },
  {
   "cell_type": "code",
   "execution_count": null,
   "id": "a21cce2d",
   "metadata": {},
   "outputs": [],
   "source": [
    "import numpy as np\n",
    "import pandas as pd"
   ]
  },
  {
   "cell_type": "markdown",
   "id": "ec5635e8",
   "metadata": {},
   "source": [
    "## Data Preparation\n",
    "\n",
    "First, the pathway for the attendance report needs to be copied into the pd.read_csv code.\n",
    "\n",
    "Second, input the values for teachers at each one of the locations that is obtained from the Staff list on Frontline.\n",
    "\n",
    "Third, input the number of teacher days that are being analyzed."
   ]
  },
  {
   "cell_type": "markdown",
   "id": "f2906e89",
   "metadata": {},
   "source": [
    "## Uploading Data\n",
    "\n",
    "Input both of the appropriate file pathways into the proper locations."
   ]
  },
  {
   "cell_type": "markdown",
   "id": "4f8ab8cc",
   "metadata": {},
   "source": [
    "### Monthly Attendance"
   ]
  },
  {
   "cell_type": "code",
   "execution_count": null,
   "id": "5aa59152",
   "metadata": {},
   "outputs": [],
   "source": [
    "# Input the pathway for the attendance data in the parenthesis\n",
    "attendance_data = pd.read_csv (r\"C:\\Users\\derek.castleman\\Desktop\\2024_01_08_20265_Data Analyst Absent Teacher Report_584188178_.csv\")\n",
    "attendance_data"
   ]
  },
  {
   "cell_type": "code",
   "execution_count": null,
   "id": "5814356b",
   "metadata": {},
   "outputs": [],
   "source": [
    "attendance_data = attendance_data.drop(attendance_data[attendance_data['Absence Reason'] == 'School Related'].index)\n",
    "attendance_data"
   ]
  },
  {
   "cell_type": "markdown",
   "id": "5e6eb346",
   "metadata": {},
   "source": [
    "### Staff"
   ]
  },
  {
   "cell_type": "code",
   "execution_count": null,
   "id": "f18d0395",
   "metadata": {},
   "outputs": [],
   "source": [
    "staff_data = pd.read_csv (r\"C:\\Users\\derek.castleman\\Desktop\\2024_01_08_20265_Teachers Data Analyst_584188268_.csv\")\n",
    "staff_data"
   ]
  },
  {
   "cell_type": "markdown",
   "id": "2b484f30",
   "metadata": {},
   "source": [
    "## Days in the Month"
   ]
  },
  {
   "cell_type": "code",
   "execution_count": null,
   "id": "aef48684",
   "metadata": {},
   "outputs": [],
   "source": [
    "e = int(input(\"Days in the month: \"))"
   ]
  },
  {
   "cell_type": "code",
   "execution_count": null,
   "id": "6aaedc26",
   "metadata": {},
   "outputs": [],
   "source": [
    "filtered = attendance_data[(attendance_data['Employee Type'] == 'Teacher')]\n",
    "filtered['Date'] = pd.to_datetime(filtered['Date'], format = '%m/%d/%Y', yearfirst=True)\n",
    "filtered"
   ]
  },
  {
   "cell_type": "code",
   "execution_count": null,
   "id": "e408a238",
   "metadata": {},
   "outputs": [],
   "source": [
    "filtered.info()"
   ]
  },
  {
   "cell_type": "code",
   "execution_count": null,
   "id": "1cbd7d06",
   "metadata": {},
   "outputs": [],
   "source": [
    "teachers = staff_data[(staff_data['Employee Type'] == 'Teacher')]\n",
    "teachers = teachers[(teachers['Active'] == 'Yes')]\n",
    "teachers"
   ]
  },
  {
   "cell_type": "code",
   "execution_count": null,
   "id": "a57bce94",
   "metadata": {},
   "outputs": [],
   "source": [
    "a = len(teachers[(teachers['School'] == 'WCPA - Delano Elementary')])\n",
    "b = len(teachers[(teachers['School'] == 'WCPA - Delano Middle School')])\n",
    "c = len(teachers[(teachers['School'] == 'WCPA - Delano High School')])\n",
    "f = len(teachers[(teachers['School'] == 'WCPA - Delano Elementary Lost Hills')])\n",
    "g = len(teachers[(teachers['School'] == 'WCPA - Lost Hills Middle School')])\n",
    "h = len(teachers[(teachers['School'] == 'WCPA-Lost Hills High School')])\n",
    "print('Delano ES', a, '\\n'\n",
    "     'Delano MS', b, '\\n'\n",
    "     'Delano HS', c, '\\n'\n",
    "     'Lost Hills ES', f, '\\n'\n",
    "     'Lost Hills MS', g, '\\n'\n",
    "     'Lost Hills HS', h)"
   ]
  },
  {
   "cell_type": "markdown",
   "id": "b45e6b94",
   "metadata": {},
   "source": [
    "## Calculations\n",
    "\n",
    "Percent teacher attendance will be calculated for each site which will be followed for all schools at each location then the average attendance for the month.\n",
    "\n",
    "* If a date is missing from a site it is because there is 100% attendance on that date.\n",
    "\n",
    "At the end you will find calculations for the number of each time an excuse was used from all the sites combined."
   ]
  },
  {
   "cell_type": "markdown",
   "id": "5c8a9d26",
   "metadata": {},
   "source": [
    "## Delano"
   ]
  },
  {
   "cell_type": "markdown",
   "id": "e740d95e",
   "metadata": {},
   "source": [
    "### Delano Elementary"
   ]
  },
  {
   "cell_type": "code",
   "execution_count": null,
   "id": "e5a53e90",
   "metadata": {},
   "outputs": [],
   "source": [
    "delano_elementary = filtered[filtered['School Name'] == 'WCPA - Delano Elementary']\n",
    "grouped = delano_elementary.groupby('Date')\n",
    "delano_elementary = []\n",
    "for name, group in grouped:\n",
    "    z = len(group)\n",
    "    y = 100 - ((z/a) * 100)\n",
    "    delano_elementary.append({'School': 'Delano ES','Date': name, '% Present': round(y)})\n",
    "delano_elementary_dataframe = pd.DataFrame(delano_elementary)\n",
    "delano_elementary_dataframe = delano_elementary_dataframe.sort_values('Date')\n",
    "delano_elementary_dataframe = delano_elementary_dataframe.pivot(index='School', columns='Date', values='% Present')\n",
    "delano_elementary_dataframe"
   ]
  },
  {
   "cell_type": "markdown",
   "id": "253f9b57",
   "metadata": {},
   "source": [
    "### Delano Middle School"
   ]
  },
  {
   "cell_type": "code",
   "execution_count": null,
   "id": "bbbdf492",
   "metadata": {},
   "outputs": [],
   "source": [
    "delano_middle = filtered[filtered['School Name'] == 'WCPA - Delano Middle School']\n",
    "grouped = delano_middle.groupby('Date')\n",
    "delano_middle = []\n",
    "for name, group in grouped:\n",
    "    z = len(group)\n",
    "    y = 100 - ((z/b) * 100)\n",
    "    delano_middle.append({'School': 'Delano MS', 'Date': name, '% Present': round(y)})\n",
    "delano_middle_dataframe = pd.DataFrame(delano_middle)\n",
    "delano_middle_dataframe = delano_middle_dataframe.sort_values('Date')\n",
    "delano_middle_dataframe = delano_middle_dataframe.pivot(index='School', columns='Date', values='% Present')\n",
    "delano_middle_dataframe"
   ]
  },
  {
   "cell_type": "markdown",
   "id": "08dff678",
   "metadata": {},
   "source": [
    "### Delano High School"
   ]
  },
  {
   "cell_type": "code",
   "execution_count": null,
   "id": "07faf62c",
   "metadata": {},
   "outputs": [],
   "source": [
    "delano_high = filtered[filtered['School Name'] == 'WCPA - Delano High School']\n",
    "grouped = delano_high.groupby('Date')\n",
    "delano_high = []\n",
    "for name, group in grouped:\n",
    "    z = len(group)\n",
    "    y = 100 - ((z/c) * 100)\n",
    "    delano_high.append({'School': 'Delano HS', 'Date': name, '% Present': round(y)})\n",
    "delano_high_dataframe = pd.DataFrame(delano_high)\n",
    "delano_high_dataframe = delano_high_dataframe.sort_values('Date')\n",
    "delano_high_dataframe = delano_high_dataframe.pivot(index='School', columns='Date', values='% Present')\n",
    "delano_high_dataframe"
   ]
  },
  {
   "cell_type": "markdown",
   "id": "09969984",
   "metadata": {},
   "source": [
    "### All Delano Schools"
   ]
  },
  {
   "cell_type": "code",
   "execution_count": null,
   "id": "f6f63600",
   "metadata": {},
   "outputs": [],
   "source": [
    "d = a+b+c\n",
    "delano_all = filtered[(filtered['School Name'] == 'WCPA - Delano High School') | (filtered['School Name'] == \n",
    "            'WCPA - Delano Elementary') | (filtered['School Name'] == 'WCPA - Delano Middle School')]\n",
    "grouped = delano_all.groupby('Date')\n",
    "delano_all_list = []\n",
    "for name, group in grouped:\n",
    "    z = len(group)\n",
    "    y = 100 - ((z/d) * 100)\n",
    "    delano_all_list.append({'School': 'Delano All', 'Date': name, '% Present': round(y)})\n",
    "delano_all_dataframe = pd.DataFrame(delano_all_list)\n",
    "delano_all_dataframe = delano_all_dataframe.sort_values('Date')\n",
    "delano_all_dataframe = delano_all_dataframe.pivot(index='School', columns='Date', values='% Present')\n",
    "delano_all_dataframe"
   ]
  },
  {
   "cell_type": "markdown",
   "id": "6f955c16",
   "metadata": {},
   "source": [
    "## Lost Hills"
   ]
  },
  {
   "cell_type": "markdown",
   "id": "8d457d1f",
   "metadata": {},
   "source": [
    "### Lost Hills Elementary"
   ]
  },
  {
   "cell_type": "code",
   "execution_count": null,
   "id": "795e1443",
   "metadata": {},
   "outputs": [],
   "source": [
    "lost_hills_elementary = filtered[filtered['School Name'] == 'WCPA - Delano Elementary Lost Hills']\n",
    "grouped = lost_hills_elementary.groupby('Date')\n",
    "lost_hills_es = []\n",
    "for name, group in grouped:\n",
    "    z = len(group)\n",
    "    y = 100 - ((z/f) * 100)\n",
    "    lost_hills_es.append({'School': 'Lost Hills ES', 'Date': name, '% Present': round(y)})\n",
    "lost_hills_es_dataframe = pd.DataFrame(lost_hills_es)\n",
    "lost_hills_es_dataframe = lost_hills_es_dataframe.sort_values('Date')\n",
    "lost_hills_es_dataframe = lost_hills_es_dataframe.pivot(index='School', columns='Date', values='% Present')\n",
    "lost_hills_es_dataframe"
   ]
  },
  {
   "cell_type": "markdown",
   "id": "8f4961ca",
   "metadata": {},
   "source": [
    "### Lost Hills Middle School"
   ]
  },
  {
   "cell_type": "code",
   "execution_count": null,
   "id": "19addbdf",
   "metadata": {},
   "outputs": [],
   "source": [
    "lost_hills_middle = filtered[filtered['School Name'] == 'WCPA - Lost Hills Middle School']\n",
    "grouped = lost_hills_middle.groupby('Date')\n",
    "lost_hills_ms = []\n",
    "for name, group in grouped:\n",
    "    z = len(group)\n",
    "    y = 100 - ((z/g) * 100)\n",
    "    lost_hills_ms.append({'School': 'Lost Hills MS', 'Date': name, '% Present': round(y)})\n",
    "lost_hills_ms_dataframe = pd.DataFrame(lost_hills_ms)\n",
    "lost_hills_ms_dataframe = lost_hills_ms_dataframe.sort_values('Date')\n",
    "lost_hills_ms_dataframe = lost_hills_ms_dataframe.pivot(index='School', columns='Date', values='% Present')\n",
    "lost_hills_ms_dataframe"
   ]
  },
  {
   "cell_type": "markdown",
   "id": "d60c4808",
   "metadata": {},
   "source": [
    "### Lost Hills High School"
   ]
  },
  {
   "cell_type": "code",
   "execution_count": null,
   "id": "87f1b52e",
   "metadata": {},
   "outputs": [],
   "source": [
    "lost_hills_high = filtered[filtered['School Name'] == 'WCPA-Lost Hills High School']\n",
    "grouped = lost_hills_high.groupby('Date')\n",
    "lost_hills_hs = []\n",
    "for name, group in grouped:\n",
    "    z = len(group)\n",
    "    y = 100 - ((z/h) * 100)\n",
    "    lost_hills_hs.append({'School': 'Lost Hills HS', 'Date': name, '% Present': round(y)})\n",
    "lost_hills_hs_dataframe = pd.DataFrame(lost_hills_hs)\n",
    "lost_hills_hs_dataframe = lost_hills_hs_dataframe.sort_values('Date')\n",
    "lost_hills_hs_dataframe = lost_hills_hs_dataframe.pivot(index='School', columns='Date', values='% Present')\n",
    "lost_hills_hs_dataframe"
   ]
  },
  {
   "cell_type": "markdown",
   "id": "7d2bf4c4",
   "metadata": {},
   "source": [
    "### All Lost Hills Schools"
   ]
  },
  {
   "cell_type": "code",
   "execution_count": null,
   "id": "4fd868f0",
   "metadata": {},
   "outputs": [],
   "source": [
    "i = f+g+h\n",
    "lost_hills_all = filtered[(filtered['School Name'] == 'WCPA - Delano Elementary Lost Hills') | (filtered['School Name'] == \n",
    "            'WCPA - Lost Hills Middle School') | (filtered['School Name'] == 'WCPA-Lost Hills High School')]\n",
    "grouped = lost_hills_all.groupby('Date')\n",
    "lost_hills_all_list = []\n",
    "for name, group in grouped:\n",
    "    z = len(group)\n",
    "    y = 100 - ((z/i) * 100)\n",
    "    lost_hills_all_list.append({'School': 'Lost Hills All', 'Date': name, '% Present': round(y)})\n",
    "lost_hills_all_dataframe = pd.DataFrame(lost_hills_all_list)\n",
    "lost_hills_all_dataframe = lost_hills_all_dataframe.sort_values('Date')\n",
    "lost_hills_all_dataframe = lost_hills_all_dataframe.pivot(index='School', columns='Date', values='% Present')\n",
    "lost_hills_all_dataframe"
   ]
  },
  {
   "cell_type": "markdown",
   "id": "2f880a29",
   "metadata": {},
   "source": [
    "## Combining\n",
    "\n",
    "The dataframes for each location will be combined together to create one dataframe. The values that are missing will be replaced with 100 since they represent perfect attendance for the date at that site."
   ]
  },
  {
   "cell_type": "code",
   "execution_count": null,
   "id": "881e5b4f",
   "metadata": {},
   "outputs": [],
   "source": [
    "frames = [delano_all_dataframe, delano_elementary_dataframe, delano_middle_dataframe, delano_high_dataframe, \n",
    "         lost_hills_all_dataframe, lost_hills_es_dataframe, lost_hills_ms_dataframe, lost_hills_hs_dataframe]\n",
    "final = pd.concat(frames)\n",
    "final = final.fillna(100)\n",
    "final"
   ]
  },
  {
   "cell_type": "code",
   "execution_count": null,
   "id": "0db21ca9",
   "metadata": {},
   "outputs": [],
   "source": [
    "final['Average']= final.mean(axis=1)/100\n",
    "final"
   ]
  },
  {
   "cell_type": "markdown",
   "id": "24e9fc93",
   "metadata": {},
   "source": [
    "## Overall Values for Each Location"
   ]
  },
  {
   "cell_type": "markdown",
   "id": "952d69fd",
   "metadata": {},
   "source": [
    "### Delano Overall Monthly Attendance"
   ]
  },
  {
   "cell_type": "code",
   "execution_count": null,
   "id": "babde358",
   "metadata": {},
   "outputs": [],
   "source": [
    "w = len(delano_all)\n",
    "v = (((e * d) - w) / (e*d)) * 100\n",
    "print('Monthly Percent Attendance:', round(v))"
   ]
  },
  {
   "cell_type": "markdown",
   "id": "516d17d2",
   "metadata": {},
   "source": [
    "### Lost Hills Overall Monthly Attendance"
   ]
  },
  {
   "cell_type": "code",
   "execution_count": null,
   "id": "5a9f6f27",
   "metadata": {},
   "outputs": [],
   "source": [
    "w = len(lost_hills_all)\n",
    "v = (((e * i) - w) / (e*i)) * 100\n",
    "print('Monthly Percent Attendance:', round(v))"
   ]
  },
  {
   "cell_type": "markdown",
   "id": "36a7498a",
   "metadata": {},
   "source": [
    "### Total Absent Reasons"
   ]
  },
  {
   "cell_type": "code",
   "execution_count": null,
   "id": "0f5111c5",
   "metadata": {},
   "outputs": [],
   "source": [
    "grouped = filtered.groupby('Absence Reason')\n",
    "for name, group in grouped:\n",
    "    q = len(group)\n",
    "    print('Absence Reason:  ', name, 'Total:  ', q)"
   ]
  },
  {
   "cell_type": "markdown",
   "id": "141c612e",
   "metadata": {},
   "source": [
    "### Generating CSV File\n",
    "\n",
    "A CSV file will be created from the dataframe for making it easier to input in the monthly attendance."
   ]
  },
  {
   "cell_type": "code",
   "execution_count": null,
   "id": "8f9d0ef6",
   "metadata": {},
   "outputs": [],
   "source": [
    "import base64\n",
    "from IPython.display import HTML\n",
    "\n",
    "def create_download_link( df, title = \"Monthly Teacher Attendance\", filename = \"monthlyteacherattendance.csv\"):\n",
    "    csv = df.to_csv()\n",
    "    b64 = base64.b64encode(csv.encode())\n",
    "    payload = b64.decode()\n",
    "    html = '<a download=\"{filename}\" href=\"data:text/csv;base64,{payload}\" target=\"_blank\">{title}</a>'\n",
    "    html = html.format(payload=payload,title=title,filename=filename)\n",
    "    return HTML(html)\n",
    "\n",
    "create_download_link(final)"
   ]
  },
  {
   "cell_type": "code",
   "execution_count": null,
   "id": "19994c1c",
   "metadata": {},
   "outputs": [],
   "source": []
  }
 ],
 "metadata": {
  "kernelspec": {
   "display_name": "Python 3 (ipykernel)",
   "language": "python",
   "name": "python3"
  },
  "language_info": {
   "codemirror_mode": {
    "name": "ipython",
    "version": 3
   },
   "file_extension": ".py",
   "mimetype": "text/x-python",
   "name": "python",
   "nbconvert_exporter": "python",
   "pygments_lexer": "ipython3",
   "version": "3.9.7"
  }
 },
 "nbformat": 4,
 "nbformat_minor": 5
}
